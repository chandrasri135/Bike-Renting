{
 "cells": [
  {
   "cell_type": "code",
   "execution_count": 222,
   "metadata": {},
   "outputs": [],
   "source": [
    "import os #Intraction local system directories\n",
    "import pandas as pd #Data processing\n",
    "import numpy as np #Linear alfrom sklearn.tree import DecisionTreeRegressor\n",
    "from sklearn.ensemble import RandomForestRegressor\n",
    "from sklearn.linear_model import LinearRegression\n",
    "import matplotlib.pyplot as plt # some plotting!\n",
    "import seaborn as sns # so For Plots!\n",
    "%matplotlib inline "
   ]
  },
  {
   "cell_type": "code",
   "execution_count": 223,
   "metadata": {},
   "outputs": [
    {
     "data": {
      "text/plain": [
       "'C:\\\\Users\\\\Sridhar\\\\Desktop\\\\Bike renting'"
      ]
     },
     "execution_count": 223,
     "metadata": {},
     "output_type": "execute_result"
    }
   ],
   "source": [
    "os.chdir('C:/Users/Sridhar/Desktop/Bike renting')\n",
    "bike_rent = pd.read_csv('day.csv', sep = ',')\n",
    "os.getcwd()"
   ]
  },
  {
   "cell_type": "code",
   "execution_count": 224,
   "metadata": {},
   "outputs": [
    {
     "data": {
      "text/plain": [
       "(731, 16)"
      ]
     },
     "execution_count": 224,
     "metadata": {},
     "output_type": "execute_result"
    }
   ],
   "source": [
    "bike_rent.shape"
   ]
  },
  {
   "cell_type": "code",
   "execution_count": 225,
   "metadata": {},
   "outputs": [
    {
     "data": {
      "text/html": [
       "<div>\n",
       "<style scoped>\n",
       "    .dataframe tbody tr th:only-of-type {\n",
       "        vertical-align: middle;\n",
       "    }\n",
       "\n",
       "    .dataframe tbody tr th {\n",
       "        vertical-align: top;\n",
       "    }\n",
       "\n",
       "    .dataframe thead th {\n",
       "        text-align: right;\n",
       "    }\n",
       "</style>\n",
       "<table border=\"1\" class=\"dataframe\">\n",
       "  <thead>\n",
       "    <tr style=\"text-align: right;\">\n",
       "      <th></th>\n",
       "      <th>instant</th>\n",
       "      <th>dteday</th>\n",
       "      <th>season</th>\n",
       "      <th>yr</th>\n",
       "      <th>mnth</th>\n",
       "      <th>holiday</th>\n",
       "      <th>weekday</th>\n",
       "      <th>workingday</th>\n",
       "      <th>weathersit</th>\n",
       "      <th>temp</th>\n",
       "      <th>atemp</th>\n",
       "      <th>hum</th>\n",
       "      <th>windspeed</th>\n",
       "      <th>casual</th>\n",
       "      <th>registered</th>\n",
       "      <th>cnt</th>\n",
       "    </tr>\n",
       "  </thead>\n",
       "  <tbody>\n",
       "    <tr>\n",
       "      <td>0</td>\n",
       "      <td>1</td>\n",
       "      <td>2011-01-01</td>\n",
       "      <td>1</td>\n",
       "      <td>0</td>\n",
       "      <td>1</td>\n",
       "      <td>0</td>\n",
       "      <td>6</td>\n",
       "      <td>0</td>\n",
       "      <td>2</td>\n",
       "      <td>0.344167</td>\n",
       "      <td>0.363625</td>\n",
       "      <td>0.805833</td>\n",
       "      <td>0.160446</td>\n",
       "      <td>331</td>\n",
       "      <td>654</td>\n",
       "      <td>985</td>\n",
       "    </tr>\n",
       "    <tr>\n",
       "      <td>1</td>\n",
       "      <td>2</td>\n",
       "      <td>2011-01-02</td>\n",
       "      <td>1</td>\n",
       "      <td>0</td>\n",
       "      <td>1</td>\n",
       "      <td>0</td>\n",
       "      <td>0</td>\n",
       "      <td>0</td>\n",
       "      <td>2</td>\n",
       "      <td>0.363478</td>\n",
       "      <td>0.353739</td>\n",
       "      <td>0.696087</td>\n",
       "      <td>0.248539</td>\n",
       "      <td>131</td>\n",
       "      <td>670</td>\n",
       "      <td>801</td>\n",
       "    </tr>\n",
       "    <tr>\n",
       "      <td>2</td>\n",
       "      <td>3</td>\n",
       "      <td>2011-01-03</td>\n",
       "      <td>1</td>\n",
       "      <td>0</td>\n",
       "      <td>1</td>\n",
       "      <td>0</td>\n",
       "      <td>1</td>\n",
       "      <td>1</td>\n",
       "      <td>1</td>\n",
       "      <td>0.196364</td>\n",
       "      <td>0.189405</td>\n",
       "      <td>0.437273</td>\n",
       "      <td>0.248309</td>\n",
       "      <td>120</td>\n",
       "      <td>1229</td>\n",
       "      <td>1349</td>\n",
       "    </tr>\n",
       "    <tr>\n",
       "      <td>3</td>\n",
       "      <td>4</td>\n",
       "      <td>2011-01-04</td>\n",
       "      <td>1</td>\n",
       "      <td>0</td>\n",
       "      <td>1</td>\n",
       "      <td>0</td>\n",
       "      <td>2</td>\n",
       "      <td>1</td>\n",
       "      <td>1</td>\n",
       "      <td>0.200000</td>\n",
       "      <td>0.212122</td>\n",
       "      <td>0.590435</td>\n",
       "      <td>0.160296</td>\n",
       "      <td>108</td>\n",
       "      <td>1454</td>\n",
       "      <td>1562</td>\n",
       "    </tr>\n",
       "    <tr>\n",
       "      <td>4</td>\n",
       "      <td>5</td>\n",
       "      <td>2011-01-05</td>\n",
       "      <td>1</td>\n",
       "      <td>0</td>\n",
       "      <td>1</td>\n",
       "      <td>0</td>\n",
       "      <td>3</td>\n",
       "      <td>1</td>\n",
       "      <td>1</td>\n",
       "      <td>0.226957</td>\n",
       "      <td>0.229270</td>\n",
       "      <td>0.436957</td>\n",
       "      <td>0.186900</td>\n",
       "      <td>82</td>\n",
       "      <td>1518</td>\n",
       "      <td>1600</td>\n",
       "    </tr>\n",
       "  </tbody>\n",
       "</table>\n",
       "</div>"
      ],
      "text/plain": [
       "   instant      dteday  season  yr  mnth  holiday  weekday  workingday  \\\n",
       "0        1  2011-01-01       1   0     1        0        6           0   \n",
       "1        2  2011-01-02       1   0     1        0        0           0   \n",
       "2        3  2011-01-03       1   0     1        0        1           1   \n",
       "3        4  2011-01-04       1   0     1        0        2           1   \n",
       "4        5  2011-01-05       1   0     1        0        3           1   \n",
       "\n",
       "   weathersit      temp     atemp       hum  windspeed  casual  registered  \\\n",
       "0           2  0.344167  0.363625  0.805833   0.160446     331         654   \n",
       "1           2  0.363478  0.353739  0.696087   0.248539     131         670   \n",
       "2           1  0.196364  0.189405  0.437273   0.248309     120        1229   \n",
       "3           1  0.200000  0.212122  0.590435   0.160296     108        1454   \n",
       "4           1  0.226957  0.229270  0.436957   0.186900      82        1518   \n",
       "\n",
       "    cnt  \n",
       "0   985  \n",
       "1   801  \n",
       "2  1349  \n",
       "3  1562  \n",
       "4  1600  "
      ]
     },
     "execution_count": 225,
     "metadata": {},
     "output_type": "execute_result"
    }
   ],
   "source": [
    "bike_rent.head()"
   ]
  },
  {
   "cell_type": "code",
   "execution_count": null,
   "metadata": {},
   "outputs": [],
   "source": []
  },
  {
   "cell_type": "markdown",
   "metadata": {},
   "source": [
    "## Eploratory Data Analysis"
   ]
  },
  {
   "cell_type": "code",
   "execution_count": 226,
   "metadata": {},
   "outputs": [],
   "source": [
    "# Extracting day from the dteday column\n",
    "splitted_date = bike_rent.dteday.str.split(\"-\")\n",
    "bike_rent['day'] = [date[2] for date in splitted_date]\n",
    "bike_rent.day = bike_rent.day.astype('int')\n",
    "# Dropping dteday column i.e, date because day, month and year has been extracted from the date\n",
    "bike_rent = bike_rent.drop(labels=\"dteday\", axis=1)"
   ]
  },
  {
   "cell_type": "code",
   "execution_count": 227,
   "metadata": {},
   "outputs": [
    {
     "data": {
      "text/plain": [
       "instant         int64\n",
       "season          int64\n",
       "yr              int64\n",
       "mnth            int64\n",
       "holiday         int64\n",
       "weekday         int64\n",
       "workingday      int64\n",
       "weathersit      int64\n",
       "temp          float64\n",
       "atemp         float64\n",
       "hum           float64\n",
       "windspeed     float64\n",
       "casual          int64\n",
       "registered      int64\n",
       "cnt             int64\n",
       "day             int32\n",
       "dtype: object"
      ]
     },
     "execution_count": 227,
     "metadata": {},
     "output_type": "execute_result"
    }
   ],
   "source": [
    "bike_rent.dtypes #checking datatypes "
   ]
  },
  {
   "cell_type": "code",
   "execution_count": 228,
   "metadata": {},
   "outputs": [
    {
     "data": {
      "text/plain": [
       "instant          int64\n",
       "season        category\n",
       "yr            category\n",
       "mnth          category\n",
       "holiday       category\n",
       "weekday       category\n",
       "workingday    category\n",
       "weathersit    category\n",
       "temp           float64\n",
       "atemp          float64\n",
       "hum            float64\n",
       "windspeed      float64\n",
       "casual           int64\n",
       "registered       int64\n",
       "cnt              int64\n",
       "day              int32\n",
       "dtype: object"
      ]
     },
     "execution_count": 228,
     "metadata": {},
     "output_type": "execute_result"
    }
   ],
   "source": [
    "#changing data types \n",
    "for i in ['season' , 'yr', 'mnth', 'holiday', 'weekday', 'workingday', 'weathersit']:\n",
    "    bike_rent[i] = bike_rent[i].astype('category')\n",
    "bike_rent.dtypes"
   ]
  },
  {
   "cell_type": "code",
   "execution_count": 229,
   "metadata": {},
   "outputs": [
    {
     "data": {
      "text/html": [
       "<div>\n",
       "<style scoped>\n",
       "    .dataframe tbody tr th:only-of-type {\n",
       "        vertical-align: middle;\n",
       "    }\n",
       "\n",
       "    .dataframe tbody tr th {\n",
       "        vertical-align: top;\n",
       "    }\n",
       "\n",
       "    .dataframe thead th {\n",
       "        text-align: right;\n",
       "    }\n",
       "</style>\n",
       "<table border=\"1\" class=\"dataframe\">\n",
       "  <thead>\n",
       "    <tr style=\"text-align: right;\">\n",
       "      <th></th>\n",
       "      <th>instant</th>\n",
       "      <th>temp</th>\n",
       "      <th>atemp</th>\n",
       "      <th>hum</th>\n",
       "      <th>windspeed</th>\n",
       "      <th>casual</th>\n",
       "      <th>registered</th>\n",
       "      <th>cnt</th>\n",
       "      <th>day</th>\n",
       "    </tr>\n",
       "  </thead>\n",
       "  <tbody>\n",
       "    <tr>\n",
       "      <td>count</td>\n",
       "      <td>731.000000</td>\n",
       "      <td>731.000000</td>\n",
       "      <td>731.000000</td>\n",
       "      <td>731.000000</td>\n",
       "      <td>731.000000</td>\n",
       "      <td>731.000000</td>\n",
       "      <td>731.000000</td>\n",
       "      <td>731.000000</td>\n",
       "      <td>731.000000</td>\n",
       "    </tr>\n",
       "    <tr>\n",
       "      <td>mean</td>\n",
       "      <td>366.000000</td>\n",
       "      <td>0.495385</td>\n",
       "      <td>0.474354</td>\n",
       "      <td>0.627894</td>\n",
       "      <td>0.190486</td>\n",
       "      <td>848.176471</td>\n",
       "      <td>3656.172367</td>\n",
       "      <td>4504.348837</td>\n",
       "      <td>15.738714</td>\n",
       "    </tr>\n",
       "    <tr>\n",
       "      <td>std</td>\n",
       "      <td>211.165812</td>\n",
       "      <td>0.183051</td>\n",
       "      <td>0.162961</td>\n",
       "      <td>0.142429</td>\n",
       "      <td>0.077498</td>\n",
       "      <td>686.622488</td>\n",
       "      <td>1560.256377</td>\n",
       "      <td>1937.211452</td>\n",
       "      <td>8.809949</td>\n",
       "    </tr>\n",
       "    <tr>\n",
       "      <td>min</td>\n",
       "      <td>1.000000</td>\n",
       "      <td>0.059130</td>\n",
       "      <td>0.079070</td>\n",
       "      <td>0.000000</td>\n",
       "      <td>0.022392</td>\n",
       "      <td>2.000000</td>\n",
       "      <td>20.000000</td>\n",
       "      <td>22.000000</td>\n",
       "      <td>1.000000</td>\n",
       "    </tr>\n",
       "    <tr>\n",
       "      <td>25%</td>\n",
       "      <td>183.500000</td>\n",
       "      <td>0.337083</td>\n",
       "      <td>0.337842</td>\n",
       "      <td>0.520000</td>\n",
       "      <td>0.134950</td>\n",
       "      <td>315.500000</td>\n",
       "      <td>2497.000000</td>\n",
       "      <td>3152.000000</td>\n",
       "      <td>8.000000</td>\n",
       "    </tr>\n",
       "    <tr>\n",
       "      <td>50%</td>\n",
       "      <td>366.000000</td>\n",
       "      <td>0.498333</td>\n",
       "      <td>0.486733</td>\n",
       "      <td>0.626667</td>\n",
       "      <td>0.180975</td>\n",
       "      <td>713.000000</td>\n",
       "      <td>3662.000000</td>\n",
       "      <td>4548.000000</td>\n",
       "      <td>16.000000</td>\n",
       "    </tr>\n",
       "    <tr>\n",
       "      <td>75%</td>\n",
       "      <td>548.500000</td>\n",
       "      <td>0.655417</td>\n",
       "      <td>0.608602</td>\n",
       "      <td>0.730209</td>\n",
       "      <td>0.233214</td>\n",
       "      <td>1096.000000</td>\n",
       "      <td>4776.500000</td>\n",
       "      <td>5956.000000</td>\n",
       "      <td>23.000000</td>\n",
       "    </tr>\n",
       "    <tr>\n",
       "      <td>max</td>\n",
       "      <td>731.000000</td>\n",
       "      <td>0.861667</td>\n",
       "      <td>0.840896</td>\n",
       "      <td>0.972500</td>\n",
       "      <td>0.507463</td>\n",
       "      <td>3410.000000</td>\n",
       "      <td>6946.000000</td>\n",
       "      <td>8714.000000</td>\n",
       "      <td>31.000000</td>\n",
       "    </tr>\n",
       "  </tbody>\n",
       "</table>\n",
       "</div>"
      ],
      "text/plain": [
       "          instant        temp       atemp         hum   windspeed  \\\n",
       "count  731.000000  731.000000  731.000000  731.000000  731.000000   \n",
       "mean   366.000000    0.495385    0.474354    0.627894    0.190486   \n",
       "std    211.165812    0.183051    0.162961    0.142429    0.077498   \n",
       "min      1.000000    0.059130    0.079070    0.000000    0.022392   \n",
       "25%    183.500000    0.337083    0.337842    0.520000    0.134950   \n",
       "50%    366.000000    0.498333    0.486733    0.626667    0.180975   \n",
       "75%    548.500000    0.655417    0.608602    0.730209    0.233214   \n",
       "max    731.000000    0.861667    0.840896    0.972500    0.507463   \n",
       "\n",
       "            casual   registered          cnt         day  \n",
       "count   731.000000   731.000000   731.000000  731.000000  \n",
       "mean    848.176471  3656.172367  4504.348837   15.738714  \n",
       "std     686.622488  1560.256377  1937.211452    8.809949  \n",
       "min       2.000000    20.000000    22.000000    1.000000  \n",
       "25%     315.500000  2497.000000  3152.000000    8.000000  \n",
       "50%     713.000000  3662.000000  4548.000000   16.000000  \n",
       "75%    1096.000000  4776.500000  5956.000000   23.000000  \n",
       "max    3410.000000  6946.000000  8714.000000   31.000000  "
      ]
     },
     "execution_count": 229,
     "metadata": {},
     "output_type": "execute_result"
    }
   ],
   "source": [
    "#understanding the data\n",
    "bike_rent.shape #contains (731, 16)\n",
    "bike_rent.describe() #data  consist of Integers , Float  and Object(categorical) variables"
   ]
  },
  {
   "cell_type": "code",
   "execution_count": 230,
   "metadata": {},
   "outputs": [
    {
     "data": {
      "text/plain": [
       "['instant',\n",
       " 'temp',\n",
       " 'atemp',\n",
       " 'hum',\n",
       " 'windspeed',\n",
       " 'casual',\n",
       " 'registered',\n",
       " 'cnt',\n",
       " 'day']"
      ]
     },
     "execution_count": 230,
     "metadata": {},
     "output_type": "execute_result"
    }
   ],
   "source": [
    "#Numerical columns\n",
    "numerical_columns = bike_rent.select_dtypes(include=[np.number]).columns.tolist()\n",
    "numerical_columns"
   ]
  },
  {
   "cell_type": "code",
   "execution_count": 231,
   "metadata": {},
   "outputs": [
    {
     "data": {
      "text/plain": [
       "['season', 'yr', 'mnth', 'holiday', 'weekday', 'workingday', 'weathersit']"
      ]
     },
     "execution_count": 231,
     "metadata": {},
     "output_type": "execute_result"
    }
   ],
   "source": [
    "#Categorical columns\n",
    "categorical_columns = bike_rent.select_dtypes(exclude=[np.number]).columns.tolist()\n",
    "categorical_columns"
   ]
  },
  {
   "cell_type": "markdown",
   "metadata": {},
   "source": [
    "## Missing Value Analysis"
   ]
  },
  {
   "cell_type": "code",
   "execution_count": 232,
   "metadata": {},
   "outputs": [
    {
     "data": {
      "text/html": [
       "<div>\n",
       "<style scoped>\n",
       "    .dataframe tbody tr th:only-of-type {\n",
       "        vertical-align: middle;\n",
       "    }\n",
       "\n",
       "    .dataframe tbody tr th {\n",
       "        vertical-align: top;\n",
       "    }\n",
       "\n",
       "    .dataframe thead th {\n",
       "        text-align: right;\n",
       "    }\n",
       "</style>\n",
       "<table border=\"1\" class=\"dataframe\">\n",
       "  <thead>\n",
       "    <tr style=\"text-align: right;\">\n",
       "      <th></th>\n",
       "      <th>Total</th>\n",
       "      <th>Percent</th>\n",
       "    </tr>\n",
       "  </thead>\n",
       "  <tbody>\n",
       "    <tr>\n",
       "      <td>day</td>\n",
       "      <td>0</td>\n",
       "      <td>0.0</td>\n",
       "    </tr>\n",
       "    <tr>\n",
       "      <td>cnt</td>\n",
       "      <td>0</td>\n",
       "      <td>0.0</td>\n",
       "    </tr>\n",
       "    <tr>\n",
       "      <td>registered</td>\n",
       "      <td>0</td>\n",
       "      <td>0.0</td>\n",
       "    </tr>\n",
       "    <tr>\n",
       "      <td>casual</td>\n",
       "      <td>0</td>\n",
       "      <td>0.0</td>\n",
       "    </tr>\n",
       "    <tr>\n",
       "      <td>windspeed</td>\n",
       "      <td>0</td>\n",
       "      <td>0.0</td>\n",
       "    </tr>\n",
       "    <tr>\n",
       "      <td>hum</td>\n",
       "      <td>0</td>\n",
       "      <td>0.0</td>\n",
       "    </tr>\n",
       "    <tr>\n",
       "      <td>atemp</td>\n",
       "      <td>0</td>\n",
       "      <td>0.0</td>\n",
       "    </tr>\n",
       "    <tr>\n",
       "      <td>temp</td>\n",
       "      <td>0</td>\n",
       "      <td>0.0</td>\n",
       "    </tr>\n",
       "    <tr>\n",
       "      <td>weathersit</td>\n",
       "      <td>0</td>\n",
       "      <td>0.0</td>\n",
       "    </tr>\n",
       "    <tr>\n",
       "      <td>workingday</td>\n",
       "      <td>0</td>\n",
       "      <td>0.0</td>\n",
       "    </tr>\n",
       "    <tr>\n",
       "      <td>weekday</td>\n",
       "      <td>0</td>\n",
       "      <td>0.0</td>\n",
       "    </tr>\n",
       "    <tr>\n",
       "      <td>holiday</td>\n",
       "      <td>0</td>\n",
       "      <td>0.0</td>\n",
       "    </tr>\n",
       "    <tr>\n",
       "      <td>mnth</td>\n",
       "      <td>0</td>\n",
       "      <td>0.0</td>\n",
       "    </tr>\n",
       "    <tr>\n",
       "      <td>yr</td>\n",
       "      <td>0</td>\n",
       "      <td>0.0</td>\n",
       "    </tr>\n",
       "    <tr>\n",
       "      <td>season</td>\n",
       "      <td>0</td>\n",
       "      <td>0.0</td>\n",
       "    </tr>\n",
       "    <tr>\n",
       "      <td>instant</td>\n",
       "      <td>0</td>\n",
       "      <td>0.0</td>\n",
       "    </tr>\n",
       "  </tbody>\n",
       "</table>\n",
       "</div>"
      ],
      "text/plain": [
       "            Total  Percent\n",
       "day             0      0.0\n",
       "cnt             0      0.0\n",
       "registered      0      0.0\n",
       "casual          0      0.0\n",
       "windspeed       0      0.0\n",
       "hum             0      0.0\n",
       "atemp           0      0.0\n",
       "temp            0      0.0\n",
       "weathersit      0      0.0\n",
       "workingday      0      0.0\n",
       "weekday         0      0.0\n",
       "holiday         0      0.0\n",
       "mnth            0      0.0\n",
       "yr              0      0.0\n",
       "season          0      0.0\n",
       "instant         0      0.0"
      ]
     },
     "execution_count": 232,
     "metadata": {},
     "output_type": "execute_result"
    }
   ],
   "source": [
    "#missing value analysis\n",
    "total = bike_rent.isnull().sum().sort_values(ascending=False)\n",
    "percent = (bike_rent.isnull().sum()/bike_rent.isnull().count()).sort_values(ascending=False)\n",
    "missing_data = pd.concat([total, percent], axis=1, keys=['Total', 'Percent'])\n",
    "missing_data\n",
    "## There are NO Missing Values in our Data"
   ]
  },
  {
   "cell_type": "markdown",
   "metadata": {},
   "source": [
    "## Visulisation Of Data"
   ]
  },
  {
   "cell_type": "markdown",
   "metadata": {},
   "source": [
    "### Univariate Analysis"
   ]
  },
  {
   "cell_type": "code",
   "execution_count": 233,
   "metadata": {},
   "outputs": [
    {
     "data": {
      "image/png": "[encoded data removed]",
      "text/plain": [
       "<Figure size 432x288 with 1 Axes>"
      ]
     },
     "metadata": {
      "needs_background": "light"
     },
     "output_type": "display_data"
    }
   ],
   "source": [
    "# Target variable  analysis\n",
    "#Check whether target variable is normal or not\n",
    "sns.distplot(bike_rent['cnt']);"
   ]
  },
  {
   "cell_type": "code",
   "execution_count": 234,
   "metadata": {},
   "outputs": [
    {
     "data": {
      "image/png": "[encoded data removed]",
      "text/plain": [
       "<Figure size 1080x432 with 1 Axes>"
      ]
     },
     "metadata": {
      "needs_background": "light"
     },
     "output_type": "display_data"
    }
   ],
   "source": [
    "#Check whether  variable 'casual'is normal or not\n",
    "fig = plt.figure(figsize=(15,6))\n",
    "sns.distplot(bike_rent['casual']);\n",
    "#Check whether  variable 'registered'is normal or not\n",
    "sns.distplot(bike_rent['registered']);\n",
    "fig.legend(labels=['casual','registered'])\n",
    "plt.show()"
   ]
  },
  {
   "cell_type": "code",
   "execution_count": 235,
   "metadata": {},
   "outputs": [
    {
     "data": {
      "text/plain": [
       "<matplotlib.axes._subplots.AxesSubplot at 0x2023c433108>"
      ]
     },
     "execution_count": 235,
     "metadata": {},
     "output_type": "execute_result"
    },
    {
     "data": {
      "image/png": "[encoded data removed]",
      "text/plain": [
       "<Figure size 432x288 with 1 Axes>"
      ]
     },
     "metadata": {
      "needs_background": "light"
     },
     "output_type": "display_data"
    }
   ],
   "source": [
    "sns.countplot(x=\"workingday\", data=bike_rent,\n",
    "                   facecolor=(0, 0, 0, 0),\n",
    "                   linewidth=3,\n",
    "                   edgecolor=sns.color_palette(\"dark\", 3))"
   ]
  },
  {
   "cell_type": "code",
   "execution_count": 236,
   "metadata": {},
   "outputs": [
    {
     "data": {
      "text/plain": [
       "<matplotlib.axes._subplots.AxesSubplot at 0x2023c398508>"
      ]
     },
     "execution_count": 236,
     "metadata": {},
     "output_type": "execute_result"
    },
    {
     "data": {
      "image/png": "[encoded data removed]",
      "text/plain": [
       "<Figure size 432x288 with 1 Axes>"
      ]
     },
     "metadata": {
      "needs_background": "light"
     },
     "output_type": "display_data"
    }
   ],
   "source": [
    "sns.countplot(x=\"holiday\", data=bike_rent,\n",
    "                   facecolor=(0, 0, 0, 0),\n",
    "                   linewidth=3,\n",
    "                   edgecolor=sns.color_palette(\"dark\", 2)) #Rentals are  high on  holidays when compare to weekdays"
   ]
  },
  {
   "cell_type": "code",
   "execution_count": 237,
   "metadata": {},
   "outputs": [
    {
     "data": {
      "text/plain": [
       "<matplotlib.axes._subplots.AxesSubplot at 0x2023c494a48>"
      ]
     },
     "execution_count": 237,
     "metadata": {},
     "output_type": "execute_result"
    },
    {
     "data": {
      "image/png": "[encoded data removed]",
      "text/plain": [
       "<Figure size 432x288 with 1 Axes>"
      ]
     },
     "metadata": {
      "needs_background": "light"
     },
     "output_type": "display_data"
    }
   ],
   "source": [
    "sns.countplot(x=\"weekday\", data=bike_rent)#weekdays are almost same"
   ]
  },
  {
   "cell_type": "code",
   "execution_count": 238,
   "metadata": {},
   "outputs": [
    {
     "data": {
      "text/plain": [
       "<matplotlib.axes._subplots.AxesSubplot at 0x2023c5925c8>"
      ]
     },
     "execution_count": 238,
     "metadata": {},
     "output_type": "execute_result"
    },
    {
     "data": {
      "image/png": "[encoded data removed]",
      "text/plain": [
       "<Figure size 432x288 with 1 Axes>"
      ]
     },
     "metadata": {
      "needs_background": "light"
     },
     "output_type": "display_data"
    }
   ],
   "source": [
    "sns.countplot(x=\"weathersit\", data=bike_rent)#weathersit 1 have highest count"
   ]
  },
  {
   "cell_type": "markdown",
   "metadata": {},
   "source": [
    "##  Outlier Analysis"
   ]
  },
  {
   "cell_type": "code",
   "execution_count": 239,
   "metadata": {},
   "outputs": [
    {
     "data": {
      "text/plain": [
       "<Figure size 1440x1440 with 0 Axes>"
      ]
     },
     "metadata": {},
     "output_type": "display_data"
    },
    {
     "data": {
      "image/png": "[encoded data removed]",
      "text/plain": [
       "<Figure size 1080x504 with 12 Axes>"
      ]
     },
     "metadata": {
      "needs_background": "light"
     },
     "output_type": "display_data"
    }
   ],
   "source": [
    "#Outliers\n",
    "plt.figure(figsize=(20,20))\n",
    "bike_rent.plot(kind=\"box\",subplots=True,layout=(3,4), figsize=(15,7))\n",
    "plt.show()"
   ]
  },
  {
   "cell_type": "code",
   "execution_count": 240,
   "metadata": {},
   "outputs": [
    {
     "name": "stdout",
     "output_type": "stream",
     "text": [
      "temp\n",
      "atemp\n",
      "hum\n",
      "windspeed\n",
      "casual\n",
      "registered\n",
      "cnt\n"
     ]
    }
   ],
   "source": [
    "#Deleting Outliers\n",
    "cname = ['temp','atemp', 'hum','windspeed','casual','registered','cnt']\n",
    "numeric_data = bike_rent[cname]\n",
    "         \n",
    "for i in cname:\n",
    "    print(i)\n",
    "    q75, q25 = np.percentile(bike_rent.loc[:,i],[75,25])\n",
    "    iqr = q75- q25\n",
    "    min = q25 - (1.5*iqr)\n",
    "    max = q75 + (1.5*iqr)\n",
    "    \n",
    "    bike_rent.loc[bike_rent.loc[:,i] < min , i] = np.nan\n",
    "    bike_rent.loc[bike_rent.loc[:,i] > max , i] = np.nan   "
   ]
  },
  {
   "cell_type": "code",
   "execution_count": 241,
   "metadata": {},
   "outputs": [
    {
     "data": {
      "text/plain": [
       "instant        0\n",
       "season         0\n",
       "yr             0\n",
       "mnth           0\n",
       "holiday        0\n",
       "weekday        0\n",
       "workingday     0\n",
       "weathersit     0\n",
       "temp           0\n",
       "atemp          0\n",
       "hum            2\n",
       "windspeed     13\n",
       "casual        44\n",
       "registered     0\n",
       "cnt            0\n",
       "day            0\n",
       "dtype: int64"
      ]
     },
     "execution_count": 241,
     "metadata": {},
     "output_type": "execute_result"
    }
   ],
   "source": [
    "pd.isnull(bike_rent).sum()"
   ]
  },
  {
   "cell_type": "code",
   "execution_count": 242,
   "metadata": {},
   "outputs": [],
   "source": [
    "#1. Imputing Missing value    \n",
    "#Actual data.iloc[41,10] = 0.506364\n",
    "bike_rent['hum'] = bike_rent['hum'].fillna(bike_rent['hum'].mean()) # = 0.4989"
   ]
  },
  {
   "cell_type": "code",
   "execution_count": 243,
   "metadata": {},
   "outputs": [],
   "source": [
    "#2. Imputing windspeed      \n",
    "#Actual data.iloc[41,11] = 0.10855\n",
    "bike_rent['windspeed'] = bike_rent['windspeed'].fillna(bike_rent['windspeed'].median()) #=0.1076 "
   ]
  },
  {
   "cell_type": "code",
   "execution_count": 244,
   "metadata": {},
   "outputs": [],
   "source": [
    "#3. imputing missing casual\n",
    "bike_rent['casual'] = bike_rent['casual'].fillna(bike_rent['cnt']-bike_rent['registered']) # we saw the values are closer this way that is 245"
   ]
  },
  {
   "cell_type": "code",
   "execution_count": 245,
   "metadata": {},
   "outputs": [
    {
     "data": {
      "text/plain": [
       "instant       0\n",
       "season        0\n",
       "yr            0\n",
       "mnth          0\n",
       "holiday       0\n",
       "weekday       0\n",
       "workingday    0\n",
       "weathersit    0\n",
       "temp          0\n",
       "atemp         0\n",
       "hum           0\n",
       "windspeed     0\n",
       "casual        0\n",
       "registered    0\n",
       "cnt           0\n",
       "day           0\n",
       "dtype: int64"
      ]
     },
     "execution_count": 245,
     "metadata": {},
     "output_type": "execute_result"
    }
   ],
   "source": [
    "pd.isnull(bike_rent).sum()"
   ]
  },
  {
   "cell_type": "markdown",
   "metadata": {},
   "source": [
    "## Feature Selection"
   ]
  },
  {
   "cell_type": "code",
   "execution_count": 246,
   "metadata": {},
   "outputs": [
    {
     "data": {
      "text/plain": [
       "<matplotlib.axes._subplots.AxesSubplot at 0x2023c4b8948>"
      ]
     },
     "execution_count": 246,
     "metadata": {},
     "output_type": "execute_result"
    },
    {
     "data": {
      "image/png": "[encoded data removed]",
      "text/plain": [
       "<Figure size 432x288 with 2 Axes>"
      ]
     },
     "metadata": {
      "needs_background": "light"
     },
     "output_type": "display_data"
    }
   ],
   "source": [
    "#drawing correlation matrix between all  numeric variables and analyse what are the variables are important\n",
    "# heat map\n",
    "#plt.figure(figsize=(15, 9))\n",
    "#corr = data.corr()\n",
    "#sns.heatmap(corr, annot=True, linewidths=1, vmin=-1, vmax=1)\n",
    "#heat map to understand the corelation of continious variable\n",
    "\n",
    "colname = ['temp','atemp', 'hum','windspeed','casual','cnt','day']\n",
    "heat_map = bike_rent[colname]\n",
    "sns.heatmap(heat_map.corr(), vmin=-1.00, vmax=1.00, annot=True)\n",
    "# we have made heat map to understand the corelation of continious variable"
   ]
  },
  {
   "cell_type": "code",
   "execution_count": 247,
   "metadata": {},
   "outputs": [],
   "source": [
    "#Dropping variables\n",
    "#data1 = data.copy()\n",
    "bike_rent = bike_rent.drop(['instant','atemp','casual','day','registered'], axis=1) \n",
    "#instant is unique for all observations hence has no significance\n",
    "#atemp is strongly correlated with temp"
   ]
  },
  {
   "cell_type": "code",
   "execution_count": 248,
   "metadata": {},
   "outputs": [
    {
     "data": {
      "text/html": [
       "<div>\n",
       "<style scoped>\n",
       "    .dataframe tbody tr th:only-of-type {\n",
       "        vertical-align: middle;\n",
       "    }\n",
       "\n",
       "    .dataframe tbody tr th {\n",
       "        vertical-align: top;\n",
       "    }\n",
       "\n",
       "    .dataframe thead th {\n",
       "        text-align: right;\n",
       "    }\n",
       "</style>\n",
       "<table border=\"1\" class=\"dataframe\">\n",
       "  <thead>\n",
       "    <tr style=\"text-align: right;\">\n",
       "      <th></th>\n",
       "      <th>season</th>\n",
       "      <th>yr</th>\n",
       "      <th>mnth</th>\n",
       "      <th>holiday</th>\n",
       "      <th>weekday</th>\n",
       "      <th>workingday</th>\n",
       "      <th>weathersit</th>\n",
       "      <th>temp</th>\n",
       "      <th>hum</th>\n",
       "      <th>windspeed</th>\n",
       "      <th>cnt</th>\n",
       "    </tr>\n",
       "  </thead>\n",
       "  <tbody>\n",
       "    <tr>\n",
       "      <td>0</td>\n",
       "      <td>1</td>\n",
       "      <td>0</td>\n",
       "      <td>1</td>\n",
       "      <td>0</td>\n",
       "      <td>6</td>\n",
       "      <td>0</td>\n",
       "      <td>2</td>\n",
       "      <td>0.344167</td>\n",
       "      <td>0.805833</td>\n",
       "      <td>0.160446</td>\n",
       "      <td>985.0</td>\n",
       "    </tr>\n",
       "    <tr>\n",
       "      <td>1</td>\n",
       "      <td>1</td>\n",
       "      <td>0</td>\n",
       "      <td>1</td>\n",
       "      <td>0</td>\n",
       "      <td>0</td>\n",
       "      <td>0</td>\n",
       "      <td>2</td>\n",
       "      <td>0.363478</td>\n",
       "      <td>0.696087</td>\n",
       "      <td>0.248539</td>\n",
       "      <td>801.0</td>\n",
       "    </tr>\n",
       "    <tr>\n",
       "      <td>2</td>\n",
       "      <td>1</td>\n",
       "      <td>0</td>\n",
       "      <td>1</td>\n",
       "      <td>0</td>\n",
       "      <td>1</td>\n",
       "      <td>1</td>\n",
       "      <td>1</td>\n",
       "      <td>0.196364</td>\n",
       "      <td>0.437273</td>\n",
       "      <td>0.248309</td>\n",
       "      <td>1349.0</td>\n",
       "    </tr>\n",
       "    <tr>\n",
       "      <td>3</td>\n",
       "      <td>1</td>\n",
       "      <td>0</td>\n",
       "      <td>1</td>\n",
       "      <td>0</td>\n",
       "      <td>2</td>\n",
       "      <td>1</td>\n",
       "      <td>1</td>\n",
       "      <td>0.200000</td>\n",
       "      <td>0.590435</td>\n",
       "      <td>0.160296</td>\n",
       "      <td>1562.0</td>\n",
       "    </tr>\n",
       "    <tr>\n",
       "      <td>4</td>\n",
       "      <td>1</td>\n",
       "      <td>0</td>\n",
       "      <td>1</td>\n",
       "      <td>0</td>\n",
       "      <td>3</td>\n",
       "      <td>1</td>\n",
       "      <td>1</td>\n",
       "      <td>0.226957</td>\n",
       "      <td>0.436957</td>\n",
       "      <td>0.186900</td>\n",
       "      <td>1600.0</td>\n",
       "    </tr>\n",
       "  </tbody>\n",
       "</table>\n",
       "</div>"
      ],
      "text/plain": [
       "  season yr mnth holiday weekday workingday weathersit      temp       hum  \\\n",
       "0      1  0    1       0       6          0          2  0.344167  0.805833   \n",
       "1      1  0    1       0       0          0          2  0.363478  0.696087   \n",
       "2      1  0    1       0       1          1          1  0.196364  0.437273   \n",
       "3      1  0    1       0       2          1          1  0.200000  0.590435   \n",
       "4      1  0    1       0       3          1          1  0.226957  0.436957   \n",
       "\n",
       "   windspeed     cnt  \n",
       "0   0.160446   985.0  \n",
       "1   0.248539   801.0  \n",
       "2   0.248309  1349.0  \n",
       "3   0.160296  1562.0  \n",
       "4   0.186900  1600.0  "
      ]
     },
     "execution_count": 248,
     "metadata": {},
     "output_type": "execute_result"
    }
   ],
   "source": [
    "bike_rent.head() #After Drop out dataset contains"
   ]
  },
  {
   "cell_type": "markdown",
   "metadata": {},
   "source": [
    "## Anova test"
   ]
  },
  {
   "cell_type": "code",
   "execution_count": 249,
   "metadata": {},
   "outputs": [],
   "source": [
    "#since the target variable is continuous\n",
    "import statsmodels.api as sm\n",
    "from statsmodels.formula.api import ols\n",
    "#from scipy import stats"
   ]
  },
  {
   "cell_type": "code",
   "execution_count": 250,
   "metadata": {},
   "outputs": [
    {
     "name": "stdout",
     "output_type": "stream",
     "text": [
      "             df        sum_sq       mean_sq           F        PR(>F)\n",
      "season      3.0  9.505959e+08  3.168653e+08  128.769622  6.720391e-67\n",
      "Residual  727.0  1.788940e+09  2.460715e+06         NaN           NaN\n"
     ]
    }
   ],
   "source": [
    "mod1 = ols('cnt ~ season', data = bike_rent).fit()\n",
    "aov_table1 = sm.stats.anova_lm(mod1, type=2)\n",
    "print(aov_table1)"
   ]
  },
  {
   "cell_type": "code",
   "execution_count": 251,
   "metadata": {},
   "outputs": [
    {
     "name": "stdout",
     "output_type": "stream",
     "text": [
      "             df        sum_sq       mean_sq           F        PR(>F)\n",
      "yr          1.0  8.798289e+08  8.798289e+08  344.890586  2.483540e-63\n",
      "Residual  729.0  1.859706e+09  2.551038e+06         NaN           NaN\n"
     ]
    }
   ],
   "source": [
    "mod2 = ols('cnt ~ yr', data = bike_rent).fit()\n",
    "aov_table2 = sm.stats.anova_lm(mod2, type=2)\n",
    "print(aov_table2)"
   ]
  },
  {
   "cell_type": "code",
   "execution_count": 252,
   "metadata": {},
   "outputs": [
    {
     "name": "stdout",
     "output_type": "stream",
     "text": [
      "             df        sum_sq       mean_sq          F        PR(>F)\n",
      "mnth       11.0  1.070192e+09  9.729021e+07  41.903703  4.251077e-70\n",
      "Residual  719.0  1.669343e+09  2.321757e+06        NaN           NaN\n"
     ]
    }
   ],
   "source": [
    "mod3 = ols('cnt ~ mnth', data = bike_rent).fit()\n",
    "aov_table3 = sm.stats.anova_lm(mod3, type=2)\n",
    "print(aov_table3)"
   ]
  },
  {
   "cell_type": "code",
   "execution_count": 253,
   "metadata": {},
   "outputs": [
    {
     "name": "stdout",
     "output_type": "stream",
     "text": [
      "             df        sum_sq       mean_sq         F    PR(>F)\n",
      "holiday     1.0  1.279749e+07  1.279749e+07  3.421441  0.064759\n",
      "Residual  729.0  2.726738e+09  3.740381e+06       NaN       NaN\n"
     ]
    }
   ],
   "source": [
    "mod4 = ols('cnt ~ holiday', data = bike_rent).fit()\n",
    "aov_table4 = sm.stats.anova_lm(mod4, type=2)\n",
    "print(aov_table4)"
   ]
  },
  {
   "cell_type": "code",
   "execution_count": 254,
   "metadata": {},
   "outputs": [
    {
     "name": "stdout",
     "output_type": "stream",
     "text": [
      "             df        sum_sq       mean_sq         F    PR(>F)\n",
      "weekday     6.0  1.765902e+07  2.943170e+06  0.782862  0.583494\n",
      "Residual  724.0  2.721876e+09  3.759498e+06       NaN       NaN\n"
     ]
    }
   ],
   "source": [
    "mod5 = ols('cnt ~ weekday', data = bike_rent).fit()\n",
    "aov_table5 = sm.stats.anova_lm(mod5, type=2)\n",
    "print(aov_table5)"
   ]
  },
  {
   "cell_type": "code",
   "execution_count": 255,
   "metadata": {},
   "outputs": [
    {
     "name": "stdout",
     "output_type": "stream",
     "text": [
      "               df        sum_sq       mean_sq         F    PR(>F)\n",
      "workingday    1.0  1.024604e+07  1.024604e+07  2.736742  0.098495\n",
      "Residual    729.0  2.729289e+09  3.743881e+06       NaN       NaN\n"
     ]
    }
   ],
   "source": [
    "mod6 = ols('cnt ~ workingday', data = bike_rent).fit()\n",
    "aov_table6 = sm.stats.anova_lm(mod6, type=2)\n",
    "print(aov_table6)"
   ]
  },
  {
   "cell_type": "code",
   "execution_count": 256,
   "metadata": {},
   "outputs": [
    {
     "name": "stdout",
     "output_type": "stream",
     "text": [
      "               df        sum_sq       mean_sq          F        PR(>F)\n",
      "weathersit    2.0  2.716446e+08  1.358223e+08  40.066045  3.106317e-17\n",
      "Residual    728.0  2.467891e+09  3.389960e+06        NaN           NaN\n"
     ]
    }
   ],
   "source": [
    "mod7 = ols('cnt ~ weathersit', data = bike_rent).fit()\n",
    "aov_table7 = sm.stats.anova_lm(mod7, type=1)\n",
    "print(aov_table7)"
   ]
  },
  {
   "cell_type": "code",
   "execution_count": 257,
   "metadata": {},
   "outputs": [],
   "source": [
    "#from anova and feature importance plotting of random forest, we decided to drop holiday and workingday\n",
    "bike_rent = bike_rent.drop(['holiday', 'workingday'], axis=1)"
   ]
  },
  {
   "cell_type": "code",
   "execution_count": 258,
   "metadata": {},
   "outputs": [
    {
     "data": {
      "text/html": [
       "<div>\n",
       "<style scoped>\n",
       "    .dataframe tbody tr th:only-of-type {\n",
       "        vertical-align: middle;\n",
       "    }\n",
       "\n",
       "    .dataframe tbody tr th {\n",
       "        vertical-align: top;\n",
       "    }\n",
       "\n",
       "    .dataframe thead th {\n",
       "        text-align: right;\n",
       "    }\n",
       "</style>\n",
       "<table border=\"1\" class=\"dataframe\">\n",
       "  <thead>\n",
       "    <tr style=\"text-align: right;\">\n",
       "      <th></th>\n",
       "      <th>season</th>\n",
       "      <th>yr</th>\n",
       "      <th>mnth</th>\n",
       "      <th>weekday</th>\n",
       "      <th>weathersit</th>\n",
       "      <th>temp</th>\n",
       "      <th>hum</th>\n",
       "      <th>windspeed</th>\n",
       "      <th>cnt</th>\n",
       "    </tr>\n",
       "  </thead>\n",
       "  <tbody>\n",
       "    <tr>\n",
       "      <td>0</td>\n",
       "      <td>1</td>\n",
       "      <td>0</td>\n",
       "      <td>1</td>\n",
       "      <td>6</td>\n",
       "      <td>2</td>\n",
       "      <td>0.344167</td>\n",
       "      <td>0.805833</td>\n",
       "      <td>0.160446</td>\n",
       "      <td>985.0</td>\n",
       "    </tr>\n",
       "    <tr>\n",
       "      <td>1</td>\n",
       "      <td>1</td>\n",
       "      <td>0</td>\n",
       "      <td>1</td>\n",
       "      <td>0</td>\n",
       "      <td>2</td>\n",
       "      <td>0.363478</td>\n",
       "      <td>0.696087</td>\n",
       "      <td>0.248539</td>\n",
       "      <td>801.0</td>\n",
       "    </tr>\n",
       "    <tr>\n",
       "      <td>2</td>\n",
       "      <td>1</td>\n",
       "      <td>0</td>\n",
       "      <td>1</td>\n",
       "      <td>1</td>\n",
       "      <td>1</td>\n",
       "      <td>0.196364</td>\n",
       "      <td>0.437273</td>\n",
       "      <td>0.248309</td>\n",
       "      <td>1349.0</td>\n",
       "    </tr>\n",
       "    <tr>\n",
       "      <td>3</td>\n",
       "      <td>1</td>\n",
       "      <td>0</td>\n",
       "      <td>1</td>\n",
       "      <td>2</td>\n",
       "      <td>1</td>\n",
       "      <td>0.200000</td>\n",
       "      <td>0.590435</td>\n",
       "      <td>0.160296</td>\n",
       "      <td>1562.0</td>\n",
       "    </tr>\n",
       "    <tr>\n",
       "      <td>4</td>\n",
       "      <td>1</td>\n",
       "      <td>0</td>\n",
       "      <td>1</td>\n",
       "      <td>3</td>\n",
       "      <td>1</td>\n",
       "      <td>0.226957</td>\n",
       "      <td>0.436957</td>\n",
       "      <td>0.186900</td>\n",
       "      <td>1600.0</td>\n",
       "    </tr>\n",
       "  </tbody>\n",
       "</table>\n",
       "</div>"
      ],
      "text/plain": [
       "  season yr mnth weekday weathersit      temp       hum  windspeed     cnt\n",
       "0      1  0    1       6          2  0.344167  0.805833   0.160446   985.0\n",
       "1      1  0    1       0          2  0.363478  0.696087   0.248539   801.0\n",
       "2      1  0    1       1          1  0.196364  0.437273   0.248309  1349.0\n",
       "3      1  0    1       2          1  0.200000  0.590435   0.160296  1562.0\n",
       "4      1  0    1       3          1  0.226957  0.436957   0.186900  1600.0"
      ]
     },
     "execution_count": 258,
     "metadata": {},
     "output_type": "execute_result"
    }
   ],
   "source": [
    "bike_rent.head()\n",
    "#dataScale = data.copy()\n",
    "#dataScale.head()"
   ]
  },
  {
   "cell_type": "markdown",
   "metadata": {},
   "source": [
    "## Feature Scaling"
   ]
  },
  {
   "cell_type": "code",
   "execution_count": 259,
   "metadata": {},
   "outputs": [
    {
     "data": {
      "image/png": "[encoded data removed]",
      "text/plain": [
       "<Figure size 1008x288 with 4 Axes>"
      ]
     },
     "metadata": {
      "needs_background": "light"
     },
     "output_type": "display_data"
    }
   ],
   "source": [
    "#Scaling for Continious variable \n",
    "plt.figure(figsize=(14,4))\n",
    "\n",
    "plt.subplot(2,4,1)\n",
    "sns.distplot(bike_rent['temp'])\n",
    "plt.title('temperature distribution')\n",
    "\n",
    "plt.subplot(2,4,2)\n",
    "sns.distplot(bike_rent['hum'])\n",
    "plt.title('humidity distribution')\n",
    "\n",
    "plt.subplot(2,4,3)\n",
    "sns.distplot(bike_rent['windspeed'])\n",
    "plt.title('windspeed distribution')\n",
    "\n",
    "plt.subplot(2,4,4)\n",
    "sns.distplot(bike_rent['cnt'])\n",
    "plt.title('count distribution')\n",
    "\n",
    "plt.tight_layout()\n",
    "\n",
    "#All our continuous variables are already normalized except the target variable which we prefer not to scale because its variation are spread quite widely and after scaling, the difference between the number is diminishing. "
   ]
  },
  {
   "cell_type": "markdown",
   "metadata": {},
   "source": [
    "## Modeling"
   ]
  },
  {
   "cell_type": "code",
   "execution_count": 260,
   "metadata": {},
   "outputs": [],
   "source": [
    "##Sampling: dividing  Test and train data  using sklearn \n",
    "from sklearn.model_selection import train_test_split,KFold, cross_val_score, cross_val_predict\n",
    "\n",
    "#Random sample selection \n",
    "train, test = train_test_split(bike_rent, test_size = 0.20, random_state = 100)\n",
    "train.to_csv(\"TrainFile_BikeRenting.csv\", index=False)\n",
    "test.to_csv(\"TestFile_BikeRenting.csv\", index=False)"
   ]
  },
  {
   "cell_type": "code",
   "execution_count": 261,
   "metadata": {},
   "outputs": [
    {
     "data": {
      "text/plain": [
       "((731, 9), (147, 9), (584, 9))"
      ]
     },
     "execution_count": 261,
     "metadata": {},
     "output_type": "execute_result"
    }
   ],
   "source": [
    "bike_rent.shape, test.shape , train.shape"
   ]
  },
  {
   "cell_type": "code",
   "execution_count": 262,
   "metadata": {},
   "outputs": [],
   "source": [
    "from sklearn import metrics\n",
    "def performance(actual, predict):\n",
    "    print('MSE:', metrics.mean_squared_error(actual, predict)) \n",
    "    print('RMSE:', np.sqrt(metrics.mean_squared_error(actual, predict))) \n",
    "    print('MAPE:',np.mean(np.abs((actual-predict)/actual))*100)\n",
    "    print('R-Sq:', metrics.r2_score(actual, predict))"
   ]
  },
  {
   "cell_type": "markdown",
   "metadata": {},
   "source": [
    "### 1. Decision Tree "
   ]
  },
  {
   "cell_type": "code",
   "execution_count": 263,
   "metadata": {},
   "outputs": [
    {
     "data": {
      "text/plain": [
       "array([4185.62790698, 6853.        , 4185.62790698, 4195.33333333,\n",
       "       4836.17105263, 3171.6       , 4836.17105263, 4185.62790698,\n",
       "       6853.        , 4195.33333333, 6853.        , 6853.        ,\n",
       "       4254.5       , 6416.        , 1817.        , 7597.89189189,\n",
       "       4836.17105263, 1824.14285714, 5068.36363636, 6853.        ,\n",
       "       7597.89189189, 4185.62790698, 5352.25      , 1278.        ,\n",
       "       3421.5       , 4530.11111111, 5930.        , 4836.17105263,\n",
       "       7597.89189189, 4195.33333333, 6853.        , 7597.89189189,\n",
       "       4185.62790698, 6737.30769231,  705.        , 3261.        ,\n",
       "       4836.17105263, 5068.36363636, 1278.        , 6853.        ,\n",
       "       4530.11111111, 4254.5       , 5068.36363636, 4195.33333333,\n",
       "       5367.75      , 6853.        , 1994.90909091, 4185.62790698,\n",
       "       5068.36363636, 1994.90909091, 6853.        , 4185.62790698,\n",
       "       5367.75      , 6853.        ,  727.        , 5756.9       ,\n",
       "       3845.57142857, 5352.25      , 2424.        , 5068.36363636,\n",
       "       4530.11111111, 4185.62790698, 1824.14285714, 4836.17105263,\n",
       "       6416.        , 4185.62790698, 6737.30769231, 5068.36363636,\n",
       "       4254.5       , 4566.        , 1994.90909091, 4836.17105263,\n",
       "       6853.        , 6416.        , 4185.62790698, 4836.17105263,\n",
       "       3261.        , 6853.        , 4836.17105263, 4836.17105263,\n",
       "       6513.        , 5367.75      , 3171.6       , 3882.66666667,\n",
       "       6853.        , 3362.44444444, 6416.        , 4254.5       ,\n",
       "       2499.06666667, 3362.44444444, 1278.        , 4195.33333333,\n",
       "       6853.        , 4185.62790698, 4062.875     , 7597.89189189,\n",
       "       5352.25      ,  973.28571429, 4836.17105263, 1402.25      ,\n",
       "       4836.17105263, 4836.17105263, 1994.90909091, 4836.17105263,\n",
       "       5068.36363636, 3362.44444444, 1824.14285714, 4185.62790698,\n",
       "       4062.875     , 1278.        , 4264.        , 6853.        ,\n",
       "       4836.17105263, 6416.        , 3362.44444444, 3150.        ,\n",
       "       4836.17105263, 2451.88888889, 1495.        , 4195.33333333,\n",
       "       7597.89189189, 4836.17105263, 4062.875     , 6853.        ,\n",
       "       4836.17105263, 3421.5       , 6853.        , 1994.90909091,\n",
       "       4836.17105263, 6853.        , 5068.36363636, 4836.17105263,\n",
       "        727.        , 4836.17105263, 6853.        , 1495.        ,\n",
       "       1824.14285714, 3487.36363636, 3882.66666667, 4195.33333333,\n",
       "       3261.        , 4195.33333333, 3882.66666667, 1278.        ,\n",
       "       3882.66666667, 1994.90909091, 2499.06666667])"
      ]
     },
     "execution_count": 263,
     "metadata": {},
     "output_type": "execute_result"
    }
   ],
   "source": [
    "from sklearn.tree import DecisionTreeRegressor\n",
    "dt = DecisionTreeRegressor(max_depth = 6, random_state=123).fit(train.iloc[:,0:8],train.iloc[:,8])\n",
    "prediction_dt = dt.predict(test.iloc[:,0:8])\n",
    "prediction_dt"
   ]
  },
  {
   "cell_type": "code",
   "execution_count": 264,
   "metadata": {},
   "outputs": [
    {
     "name": "stdout",
     "output_type": "stream",
     "text": [
      "MSE: 576621.9816371171\n",
      "RMSE: 759.3562942631852\n",
      "MAPE: 16.68260112239678\n",
      "R-Sq: 0.8308817145626113\n",
      "                           \n",
      "Perdicted Vs Actual value: \n"
     ]
    },
    {
     "data": {
      "text/plain": [
       "(4836.171052631579, 4458.0)"
      ]
     },
     "execution_count": 264,
     "metadata": {},
     "output_type": "execute_result"
    }
   ],
   "source": [
    "#error matrix\n",
    "performance(test.iloc[:,8],prediction_dt)\n",
    "print('                           ')\n",
    "print('Perdicted Vs Actual value: ')\n",
    "prediction_dt[6], test.iloc[6,8]"
   ]
  },
  {
   "cell_type": "code",
   "execution_count": 265,
   "metadata": {},
   "outputs": [
    {
     "data": {
      "text/plain": [
       "0.9209045002047951"
      ]
     },
     "execution_count": 265,
     "metadata": {},
     "output_type": "execute_result"
    }
   ],
   "source": [
    "dt.score(train.iloc[:,0:8],train.iloc[:,8])"
   ]
  },
  {
   "cell_type": "code",
   "execution_count": null,
   "metadata": {},
   "outputs": [],
   "source": []
  },
  {
   "cell_type": "markdown",
   "metadata": {},
   "source": [
    "### 2. Random Forest "
   ]
  },
  {
   "cell_type": "code",
   "execution_count": 266,
   "metadata": {},
   "outputs": [
    {
     "data": {
      "text/plain": [
       "array([4689.95428571, 6922.10428571, 3930.59714286, 4868.82714286,\n",
       "       5023.24142857, 3250.56857143, 4561.26142857, 4101.75857143,\n",
       "       6414.04142857, 4463.81142857, 6456.29428571, 7355.99142857,\n",
       "       3971.89857143, 5524.68142857, 2300.83285714, 7172.52285714,\n",
       "       5125.15857143, 1594.51571429, 4764.71428571, 6206.80571429,\n",
       "       7657.12428571, 3736.55428571, 6462.84571429, 1408.62285714,\n",
       "       3598.29      , 4192.94571429, 6254.98      , 4937.55285714,\n",
       "       7568.75571429, 4327.50571429, 6575.57285714, 7606.30428571,\n",
       "       3495.51285714, 6491.29571429, 1813.44571429, 3862.16285714,\n",
       "       4541.77714286, 5442.78714286, 1332.92714286, 6276.39285714,\n",
       "       4418.12285714, 3707.79142857, 5326.69142857, 4206.37428571,\n",
       "       6088.65571429, 6270.49428571, 1792.50571429, 3746.74      ,\n",
       "       5409.15142857, 2237.09571429, 7403.46714286, 4087.55285714,\n",
       "       5283.56142857, 7263.54857143, 2275.49142857, 6109.48571429,\n",
       "       4189.51      , 5226.80857143, 2670.27142857, 5395.56285714,\n",
       "       4206.18571429, 3991.55428571, 1704.68142857, 4901.61428571,\n",
       "       5547.85571429, 4293.79714286, 7290.31571429, 5148.99571429,\n",
       "       4177.13      , 5244.60571429, 1951.98714286, 4498.06857143,\n",
       "       6804.25142857, 5420.31285714, 4162.82857143, 4395.5       ,\n",
       "       3869.94857143, 6613.99714286, 4732.25      , 4524.94857143,\n",
       "       6445.78      , 5571.54428571, 3330.29714286, 3831.21428571,\n",
       "       7516.86714286, 3234.93714286, 7168.74285714, 3710.75428571,\n",
       "       2764.34571429, 3146.50142857, 1285.50857143, 4581.03285714,\n",
       "       7401.63285714, 3597.62714286, 3769.14142857, 7705.33142857,\n",
       "       5841.09      , 1020.34142857, 4692.54714286, 1610.8       ,\n",
       "       5186.46285714, 5043.20285714, 1958.59571429, 4646.67      ,\n",
       "       5205.19571429, 3228.13571429, 1637.6       , 3418.53857143,\n",
       "       3908.01285714, 1149.23428571, 3687.23428571, 6800.32285714,\n",
       "       4985.72428571, 5882.71714286, 3298.12571429, 4316.29428571,\n",
       "       4509.58857143, 2116.66857143, 2899.63714286, 4796.35571429,\n",
       "       7800.39142857, 4612.66857143, 3999.90714286, 6428.16285714,\n",
       "       4751.95285714, 3544.50428571, 7297.11428571, 1993.57285714,\n",
       "       4571.97285714, 7465.99857143, 5296.78571429, 4927.20571429,\n",
       "       2086.06285714, 4232.56      , 7045.46428571, 2829.82142857,\n",
       "       1565.78714286, 3608.76285714, 4165.26      , 4714.79714286,\n",
       "       3381.68428571, 4438.21285714, 3583.96285714, 1346.72714286,\n",
       "       3965.06571429, 1747.85571429, 2251.24      ])"
      ]
     },
     "execution_count": 266,
     "metadata": {},
     "output_type": "execute_result"
    }
   ],
   "source": [
    "rf = RandomForestRegressor(n_estimators = 700, random_state = 126).fit(train.iloc[:,0:8],train.iloc[:,8])\n",
    "prediction_rf = rf.predict(test.iloc[:,0:8])\n",
    "prediction_rf"
   ]
  },
  {
   "cell_type": "code",
   "execution_count": 267,
   "metadata": {},
   "outputs": [
    {
     "name": "stdout",
     "output_type": "stream",
     "text": [
      "MSE: 355025.5025178815\n",
      "RMSE: 595.8401652439029\n",
      "MAPE: 13.443422955844722\n",
      "R-Sq: 0.8958740627578833\n",
      "                           \n",
      "Perdicted Vs Actual value: \n"
     ]
    },
    {
     "data": {
      "text/plain": [
       "(6922.104285714286, 6825.0)"
      ]
     },
     "execution_count": 267,
     "metadata": {},
     "output_type": "execute_result"
    }
   ],
   "source": [
    "performance(test.iloc[:,8],prediction_rf)\n",
    "print('                           ')\n",
    "print('Perdicted Vs Actual value: ')\n",
    "prediction_rf[1], test.iloc[1,8]"
   ]
  },
  {
   "cell_type": "code",
   "execution_count": 268,
   "metadata": {},
   "outputs": [
    {
     "data": {
      "text/plain": [
       "0.9827507580171687"
      ]
     },
     "execution_count": 268,
     "metadata": {},
     "output_type": "execute_result"
    }
   ],
   "source": [
    "rf.score(train.iloc[:,0:8],train.iloc[:,8])"
   ]
  },
  {
   "cell_type": "code",
   "execution_count": null,
   "metadata": {},
   "outputs": [],
   "source": []
  },
  {
   "cell_type": "markdown",
   "metadata": {},
   "source": [
    "### 3. Linear Regression"
   ]
  },
  {
   "cell_type": "code",
   "execution_count": 269,
   "metadata": {},
   "outputs": [
    {
     "data": {
      "text/plain": [
       "array([4770.97415752, 6530.61199226, 3521.99990085, 5527.58732386,\n",
       "       4686.85111153, 4042.94435259, 5087.12765323, 4245.57765257,\n",
       "       6236.2737652 , 5599.02755869, 6429.25931572, 7199.39822111,\n",
       "       3962.79882877, 4977.31233361, 2400.04366244, 7138.2321118 ,\n",
       "       5445.79901344, 1428.6928155 , 4373.46869552, 5459.46828259,\n",
       "       7264.06093895, 4589.58544873, 6699.49710809, 1439.12565656,\n",
       "       3186.76693131, 4552.46147716, 6390.83647618, 3864.40436742,\n",
       "       6622.65169003, 4977.48527811, 7279.90928808, 7257.55069161,\n",
       "       3992.18399944, 5624.37872155, 2543.48363291, 3925.80618291,\n",
       "       4912.63721598, 5807.28294697, 1243.72597827, 5418.52296664,\n",
       "       4526.35548337, 3269.04599419, 5014.03695058, 6346.77647347,\n",
       "       5411.66323569, 7728.2624843 , 1448.28237418, 4489.63940999,\n",
       "       4820.30874831, 2304.27513135, 6230.15244318, 4474.49795146,\n",
       "       5050.45451953, 6299.79926039, 3098.543545  , 7794.65679112,\n",
       "       4893.86164274, 4997.94623522, 2103.61262942, 5869.00971044,\n",
       "       4479.48007931, 4948.78032035, 2019.69105495, 5169.69213536,\n",
       "       5247.06759226, 4545.08135428, 6836.4173994 , 5295.3989877 ,\n",
       "       3791.84493857, 5905.86255882, 1948.88181914, 4650.33199442,\n",
       "       7266.94702331, 5120.67061731, 4747.59660905, 3760.68505224,\n",
       "       3831.31960004, 7344.48752448, 4567.54166559, 4828.02430662,\n",
       "       4887.03463265, 4881.78419067, 3810.62138167, 4295.36847972,\n",
       "       7447.40375568, 3133.15859704, 6184.9403412 , 2967.98105723,\n",
       "       3838.12499761, 3079.10435402, 1305.53483377, 5638.55242503,\n",
       "       7681.12508787, 3005.66434119, 3476.94425808, 6925.44537233,\n",
       "       5773.433477  ,  -84.03558149, 3508.18170051, 1266.54216411,\n",
       "       4332.98872085, 4726.24871685, 1892.89949561, 5451.36001415,\n",
       "       4408.68239436, 2958.77735802, 2305.53163639, 3151.20047722,\n",
       "       4011.45659548,  882.28731831, 3825.50860284, 5900.55062416,\n",
       "       5096.58551   , 4870.61946101, 3126.89762727, 3733.20876734,\n",
       "       4794.92779497, 1475.11513749, 3601.11451418, 5684.29508615,\n",
       "       6672.01151162, 5364.2729101 , 4153.90958546, 6495.81583973,\n",
       "       4583.67428412, 3043.47130465, 7280.0175471 , 1495.24572026,\n",
       "       4870.3685494 , 6775.58143489, 6094.32649539, 4823.36745235,\n",
       "       2767.37800072, 3257.30794886, 6839.31126878, 2884.66190934,\n",
       "       1933.62430271, 4140.73767885, 4611.89692019, 5473.27463784,\n",
       "       3315.0246635 , 5265.7198967 , 2814.44163601, 1688.52329951,\n",
       "       4447.41763171, 1000.01448164, 2925.49978325])"
      ]
     },
     "execution_count": 269,
     "metadata": {},
     "output_type": "execute_result"
    }
   ],
   "source": [
    "ln_model = LinearRegression().fit(train.iloc[:,0:8],train.iloc[:,8])\n",
    "prediction_lr = ln_model.predict(test.iloc[:,0:8])\n",
    "prediction_lr "
   ]
  },
  {
   "cell_type": "code",
   "execution_count": 270,
   "metadata": {},
   "outputs": [
    {
     "name": "stdout",
     "output_type": "stream",
     "text": [
      "MSE: 797456.574894587\n",
      "RMSE: 893.004241252295\n",
      "MAPE: 19.55961473732635\n",
      "R-Sq: 0.7661128209610664\n",
      "                           \n",
      "Perdicted Vs Actual value: \n"
     ]
    },
    {
     "data": {
      "text/plain": [
       "(6530.611992260372, 6825.0)"
      ]
     },
     "execution_count": 270,
     "metadata": {},
     "output_type": "execute_result"
    }
   ],
   "source": [
    "performance(test.iloc[:,8],prediction_lr1)\n",
    "print('                           ')\n",
    "print('Perdicted Vs Actual value: ')\n",
    "prediction_lr[1], test.iloc[1,8]"
   ]
  },
  {
   "cell_type": "code",
   "execution_count": 271,
   "metadata": {},
   "outputs": [
    {
     "data": {
      "text/plain": [
       "0.7970563190848906"
      ]
     },
     "execution_count": 271,
     "metadata": {},
     "output_type": "execute_result"
    }
   ],
   "source": [
    "ln_model.score(train.iloc[:,0:8],train.iloc[:,8])"
   ]
  },
  {
   "cell_type": "code",
   "execution_count": 272,
   "metadata": {},
   "outputs": [
    {
     "data": {
      "image/png": "[encoded data removed]",
      "text/plain": [
       "<Figure size 1008x288 with 3 Axes>"
      ]
     },
     "metadata": {
      "needs_background": "light"
     },
     "output_type": "display_data"
    }
   ],
   "source": [
    "#Ploting to understand the spread of predicted data. \n",
    "\n",
    "plt.figure(figsize=(14,4))\n",
    "\n",
    "plt.subplot(1,3,1)\n",
    "plt.title('Decision Tree predictions')\n",
    "plt.scatter(test.iloc[:,8] , prediction_dt)\n",
    "plt.xlabel('Actual values')\n",
    "plt.ylabel('Predicted values')\n",
    "\n",
    "plt.subplot(1,3,2)\n",
    "plt.title('Random Forest predictions')\n",
    "plt.scatter(test.iloc[:,8] , prediction_rf)\n",
    "plt.xlabel('Actual values')\n",
    "plt.ylabel('Predicted values')\n",
    "\n",
    "plt.subplot(1,3,3)\n",
    "plt.title('Linear Regression Predictions')\n",
    "plt.scatter(test.iloc[:,8] , prediction_lr)\n",
    "plt.xlabel('Actual values')\n",
    "plt.ylabel('Predicted values')\n",
    "\n",
    "plt.tight_layout()"
   ]
  },
  {
   "cell_type": "markdown",
   "metadata": {},
   "source": [
    "### Saving Results"
   ]
  },
  {
   "cell_type": "code",
   "execution_count": 273,
   "metadata": {},
   "outputs": [
    {
     "name": "stderr",
     "output_type": "stream",
     "text": [
      "C:\\Users\\Sridhar\\Anaconda3\\lib\\site-packages\\ipykernel_launcher.py:1: SettingWithCopyWarning: \n",
      "A value is trying to be set on a copy of a slice from a DataFrame.\n",
      "Try using .loc[row_indexer,col_indexer] = value instead\n",
      "\n",
      "See the caveats in the documentation: http://pandas.pydata.org/pandas-docs/stable/user_guide/indexing.html#returning-a-view-versus-a-copy\n",
      "  \"\"\"Entry point for launching an IPython kernel.\n",
      "C:\\Users\\Sridhar\\Anaconda3\\lib\\site-packages\\ipykernel_launcher.py:2: SettingWithCopyWarning: \n",
      "A value is trying to be set on a copy of a slice from a DataFrame.\n",
      "Try using .loc[row_indexer,col_indexer] = value instead\n",
      "\n",
      "See the caveats in the documentation: http://pandas.pydata.org/pandas-docs/stable/user_guide/indexing.html#returning-a-view-versus-a-copy\n",
      "  \n",
      "C:\\Users\\Sridhar\\Anaconda3\\lib\\site-packages\\ipykernel_launcher.py:3: SettingWithCopyWarning: \n",
      "A value is trying to be set on a copy of a slice from a DataFrame.\n",
      "Try using .loc[row_indexer,col_indexer] = value instead\n",
      "\n",
      "See the caveats in the documentation: http://pandas.pydata.org/pandas-docs/stable/user_guide/indexing.html#returning-a-view-versus-a-copy\n",
      "  This is separate from the ipykernel package so we can avoid doing imports until\n"
     ]
    }
   ],
   "source": [
    "test['DT Predictions'] = prediction_dt\n",
    "test['RF Predictions'] = prediction_rf\n",
    "test['LR Prediction'] = prediction_lr\n",
    "\n",
    "train.to_csv(\"TrainFile1onwhichModelistrained.csv\", index=False)\n",
    "test.to_csv(\"TestFile1withresultsfromModel.csv\", index=False)"
   ]
  },
  {
   "cell_type": "code",
   "execution_count": null,
   "metadata": {},
   "outputs": [],
   "source": []
  },
  {
   "cell_type": "code",
   "execution_count": null,
   "metadata": {},
   "outputs": [],
   "source": []
  },
  {
   "cell_type": "code",
   "execution_count": null,
   "metadata": {},
   "outputs": [],
   "source": []
  },
  {
   "cell_type": "code",
   "execution_count": null,
   "metadata": {},
   "outputs": [],
   "source": []
  },
  {
   "cell_type": "code",
   "execution_count": null,
   "metadata": {},
   "outputs": [],
   "source": []
  },
  {
   "cell_type": "code",
   "execution_count": null,
   "metadata": {},
   "outputs": [],
   "source": []
  }
 ],
 "metadata": {
  "kernelspec": {
   "display_name": "Python 3",
   "language": "python",
   "name": "python3"
  },
  "language_info": {
   "codemirror_mode": {
    "name": "ipython",
    "version": 3
   },
   "file_extension": ".py",
   "mimetype": "text/x-python",
   "name": "python",
   "nbconvert_exporter": "python",
   "pygments_lexer": "ipython3",
   "version": "3.7.4"
  }
 },
 "nbformat": 4,
 "nbformat_minor": 2
}
